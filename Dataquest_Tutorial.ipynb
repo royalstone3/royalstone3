# Jupyter Tutorial from Dataquest

[Dataquest Tutorial Link](https://www.dataquest.io/blog/jupyter-notebook-tutorial/)

print("hi")

import time
time.sleep(3)

def say_hello(recipient):
    return 'Hello, {}!'.format(recipient)

say_hello('Tim')

# This is a level 1 heading

## This is a level 2 heading

This is some plain text that forms a paragraph. Add emphasis via **bold** and __bold__,

Paragraphs must be separated by an empty line.

* Sometimes we want to include lists.
* Which can be bullted using asterisks.

1. Lists can also be numbered.
2. If we want an ordered list.

[It is possible to include hyperlinks](https://example.com)

Inline code uses single backticks: `foo()`, and code blocks use triple backticks:
```
bar()
```

Or can be indented by 4 spaces:
    foo()
    
And finally, adding images is easy: ![Alt text](https://www.example.com/image.jpg)

import numpy as np
def square(x):
    return x*x

x = np.random.randint(1,10)
y = square(x)
print('%d squared is %d' % (x,y))

y = 10
print('%d squared is %d' % (x,y))

# Data Set Setup

%matplotlib inline
import pandas as pd
import matplotlib.pyplot as plt
import seaborn as sns 
sns.set(style="darkgrid")

df = pd.read_csv('fortune500.csv')

df.head()

df.tail()

df.columns = ['year','rank','company','revenue','profit']

len(df)

df.dtypes

non_numberic_profits = df.profit.str.contains('N.A.')
df.loc[non_numberic_profits].head()

set(df.profit[non_numberic_profits])

len(df.profit[non_numberic_profits])

bin_sizes, _, _ = plt.hist(df.year[non_numberic_profits], bins=range(1955, 2006))

df = df.loc[~non_numberic_profits]
df.profit = df.profit.apply(pd.to_numeric)

len(df)

df.dtypes

## Plotting with matplotlib to find average profit by year

group_by_year = df.loc[:, ['year', 'revenue', 'profit']].groupby('year')
avgs = group_by_year.mean()
x = avgs.index
y1 = avgs.profit
def plot(x, y, ax, title, y_label):
    ax.set_title(title)
    ax.set_ylabel(y_label)
    ax.plot(x, y)
    ax.margins(x=0, y=0)
    
fig, ax = plt.subplots()
plot(x, y1, ax, 'Increase in mean Fortune 500 company profits from 1955 to 2005', 'Profit (millions)')

y2 = avgs.revenue
fig, ax = plt.subplots()
plot(x, y2, ax, 'Increase in mean Fortune 500 company revenues from 1955 to 2005', 'Revenue (millions)')

def plot_with_std(x, y, stds, ax, title, y_label):
    ax.fill_between(x, y - stds, y + stds, alpha=0.2)
    plot(x, y, ax, title, y_label)
fig, (ax1, ax2) = plt.subplots(ncols=2)
title = 'Increase in mean and std Fortune 500 company %s from 1955 to 2005'
stds1 = group_by_year.std().profit.values
stds2 = group_by_year.std().revenue.values
plot_with_std(x, y1.values, stds1, ax1, title % 'profits', 'Profit (millions)')
plot_with_std(x, y2.values, stds2, ax2, title % 'revenues', 'Revenue (millions)')
fig.set_size_inches(14, 4)
fig.tight_layout()
